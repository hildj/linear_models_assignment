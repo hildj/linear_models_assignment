{
  "cells": [
    {
      "cell_type": "markdown",
      "metadata": {
        "id": "view-in-github",
        "colab_type": "text"
      },
      "source": [
        "<a href=\"https://colab.research.google.com/github/hildj/linear_models_assignment/blob/main/assignment.ipynb\" target=\"_parent\"><img src=\"https://colab.research.google.com/assets/colab-badge.svg\" alt=\"Open In Colab\"/></a>"
      ]
    },
    {
      "cell_type": "markdown",
      "id": "e0c7b14a-e5aa-4abc-b48b-b8a9d20dacac",
      "metadata": {
        "id": "e0c7b14a-e5aa-4abc-b48b-b8a9d20dacac"
      },
      "source": [
        "# Assignment: Linear Models\n",
        "## Do two questions in total: \"Q1+Q2\" or \"Q1+Q3\"\n",
        "### `! git clone https://github.com/ds3001f25/linear_models_assignment.git`"
      ]
    },
    {
      "cell_type": "markdown",
      "id": "ca1cfba3",
      "metadata": {
        "vscode": {
          "languageId": "plaintext"
        },
        "id": "ca1cfba3"
      },
      "source": [
        "**Q1.** Let's explore multiple linear regression in a two-variable case, to build more intuition about what is happening.\n",
        "\n",
        "Suppose the model is\n",
        "$$\n",
        "\\hat{y}_i = b_0 + b_1 z_{i1} + b_2 z_{i2}\n",
        "$$\n",
        "Assume that $z_{ij}$ is centered or de-meaned, so that $z_{ij} = x_{ij} - m_j$ where $m_j$ is the mean of variable $j$ and $x_{ij}$ is the original value of variable $j$ for observation $i$. Notice that this implies\n",
        "$$\n",
        "\\dfrac{1}{N} \\sum_{i=1}^N z_{ij} = 0\n",
        "$$\n",
        "which will simplify your calculations below substantially!\n",
        "\n",
        "1. Write down the SSE for this model.\n",
        "2. Take partial derivatives with respect to $b_0$, $b_1$, and $b_2$.\n",
        "3. Verify that the average error is zero and $e \\cdot z =0$ at the optimum, just as in the single linear regression case.\n",
        "4. Show that the optimal intercept is $b_0^* = \\bar{y}$. Eliminate $b_0^*$ from the remaining equations, and focus on $b_1$ and $b_2$.\n",
        "5. Write your results as a matrix equation in the form \"$Ab=C$\". These are called the **normal equations**.\n",
        "6. Divide both sides by $N$ and substitute $z_{ij} = x_{ij} - m_j$ back into your normal equations for $x_{ij}$. What is the matrix $A$? What is the vector $C$? Explain the intuition of your discovery."
      ]
    },
    {
      "cell_type": "code",
      "execution_count": 8,
      "id": "b005058d",
      "metadata": {
        "colab": {
          "base_uri": "https://localhost:8080/"
        },
        "id": "b005058d",
        "outputId": "a800c0af-72dd-4e08-860a-4861bdace72a"
      },
      "outputs": [
        {
          "output_type": "stream",
          "name": "stdout",
          "text": [
            "fatal: destination path 'linear_models_assignment' already exists and is not an empty directory.\n"
          ]
        }
      ],
      "source": [
        "! git clone https://github.com/hildj/linear_models_assignment.git\n"
      ]
    },
    {
      "cell_type": "markdown",
      "source": [
        "### 1. The SSE  \n",
        "\n",
        "The model is:  \n",
        "\n",
        "$$\n",
        "y_i = b_0 + b_1 z_{i1} + b_2 z_{i2} + e_i\n",
        "$$  \n",
        "\n",
        "The sum of squared errors (SSE) is:  \n",
        "\n",
        "$$\n",
        "SSE(b_0, b_1, b_2) = \\sum_{i=1}^N \\Big( y_i - b_0 - b_1 z_{i1} - b_2 z_{i2} \\Big)^2\n",
        "$$\n"
      ],
      "metadata": {
        "id": "D34LICLqnRH0"
      },
      "id": "D34LICLqnRH0"
    },
    {
      "cell_type": "markdown",
      "source": [
        "### 2. Partial derivatives  \n",
        "\n",
        "For this one, we take derivatives of the SSE with respect to each coefficient.  \n",
        "\n",
        "1. With respect to \\( b_0 \\):  \n",
        "\n",
        "$$\n",
        "\\frac{\\partial SSE}{\\partial b_0} = -2 \\sum_{i=1}^N \\Big( y_i - b_0 - b_1 z_{i1} - b_2 z_{i2} \\Big)\n",
        "$$  \n",
        "\n",
        "2. With respect to \\( b_1 \\):  \n",
        "\n",
        "$$\n",
        "\\frac{\\partial SSE}{\\partial b_1} = -2 \\sum_{i=1}^N z_{i1}\\Big( y_i - b_0 - b_1 z_{i1} - b_2 z_{i2} \\Big)\n",
        "$$  \n",
        "\n",
        "3. With respect to \\( b_2 \\):  \n",
        "\n",
        "$$\n",
        "\\frac{\\partial SSE}{\\partial b_2} = -2 \\sum_{i=1}^N z_{i2}\\Big( y_i - b_0 - b_1 z_{i1} - b_2 z_{i2} \\Big)\n",
        "$$\n"
      ],
      "metadata": {
        "id": "FEQ_2iwanV94"
      },
      "id": "FEQ_2iwanV94"
    },
    {
      "cell_type": "markdown",
      "source": [
        "###3. Properties of the residuals  \n",
        "\n",
        "At the optimum, the first-order conditions imply:  \n",
        "\n",
        "- The **average error is zero**:  \n",
        "\n",
        "$$\n",
        "\\sum_{i=1}^N e_i = 0\n",
        "$$  \n",
        "\n",
        "- Errors are orthogonal to each regressor:  \n",
        "\n",
        "$$\n",
        "\\sum_{i=1}^N e_i z_{i1} = 0, \\quad \\sum_{i=1}^N e_i z_{i2} = 0\n",
        "$$  \n",
        "\n",
        "This is the same property that was in simple linear regression.\n"
      ],
      "metadata": {
        "id": "GRO0Qd8tna6l"
      },
      "id": "GRO0Qd8tna6l"
    },
    {
      "cell_type": "markdown",
      "source": [
        "### 4. Optimal intercept  \n",
        "\n",
        "From the first condition:  \n",
        "\n",
        "$$\n",
        "\\sum_{i=1}^N (y_i - b_0 - b_1 z_{i1} - b_2 z_{i2}) = 0\n",
        "$$  \n",
        "\n",
        "Since the \\( z \\)’s are demeaned (\\(\\sum z_{ij} = 0\\)), this simplifies to:  \n",
        "\n",
        "$$\n",
        "Nb_0 = \\sum_{i=1}^N y_i\n",
        "$$  \n",
        "\n",
        "So:  \n",
        "\n",
        "$$\n",
        "b_0^* = \\bar{y}\n",
        "$$\n"
      ],
      "metadata": {
        "id": "QqA6z0Lbndwb"
      },
      "id": "QqA6z0Lbndwb"
    },
    {
      "cell_type": "markdown",
      "source": [
        "### 5. Reduced equations for \\( b_1, b_2 \\)  \n",
        "\n",
        "Plugging \\( b_0^* = \\bar{y} \\) into the other two equations, we get:  \n",
        "\n",
        "1.  \n",
        "\n",
        "$$\n",
        "\\sum_{i=1}^N z_{i1}(y_i - \\bar{y}) = b_1 \\sum_{i=1}^N z_{i1}^2 + b_2 \\sum_{i=1}^N z_{i1} z_{i2}\n",
        "$$  \n",
        "\n",
        "2.  \n",
        "\n",
        "$$\n",
        "\\sum_{i=1}^N z_{i2}(y_i - \\bar{y}) = b_1 \\sum_{i=1}^N z_{i1} z_{i2} + b_2 \\sum_{i=1}^N z_{i2}^2\n",
        "$$  \n"
      ],
      "metadata": {
        "id": "yuax4JvYngWW"
      },
      "id": "yuax4JvYngWW"
    },
    {
      "cell_type": "markdown",
      "source": [
        "### 6. Matrix form (so the Normal Equations)  \n",
        "\n",
        "We can write these two equations in matrix form so I will write them as such:  \n",
        "\n",
        "$$\n",
        "\\begin{bmatrix}\n",
        "\\sum z_{i1}^2 & \\sum z_{i1}z_{i2} \\\\\n",
        "\\sum z_{i1}z_{i2} & \\sum z_{i2}^2\n",
        "\\end{bmatrix}\n",
        "\\begin{bmatrix}\n",
        "b_1 \\\\\n",
        "b_2\n",
        "\\end{bmatrix}\n",
        "=\n",
        "\\begin{bmatrix}\n",
        "\\sum z_{i1}(y_i - \\bar{y}) \\\\\n",
        "\\sum z_{i2}(y_i - \\bar{y})\n",
        "\\end{bmatrix}\n",
        "$$  \n",
        "\n",
        "This is the system \\( A b = C \\).\n"
      ],
      "metadata": {
        "id": "FUzzoa_MnjEw"
      },
      "id": "FUzzoa_MnjEw"
    },
    {
      "cell_type": "markdown",
      "source": [
        "### Continuing above, we can divide by N and substitute back  \n",
        "\n",
        "If we divide both sides by \\( N \\), we recognize averages (covariances).  \n",
        "\n",
        "- The matrix \\( A \\) becomes the covariance matrix of the predictors:  \n",
        "\n",
        "$$\n",
        "A =\n",
        "\\begin{bmatrix}\n",
        "\\text{Var}(x_1) & \\text{Cov}(x_1, x_2) \\\\\n",
        "\\text{Cov}(x_1, x_2) & \\text{Var}(x_2)\n",
        "\\end{bmatrix}\n",
        "$$  \n",
        "\n",
        "- The vector \\( C \\) becomes the covariance of each predictor with \\( y \\):  \n",
        "\n",
        "$$\n",
        "C =\n",
        "\\begin{bmatrix}\n",
        "\\text{Cov}(x_1, y) \\\\\n",
        "\\text{Cov}(x_2, y)\n",
        "\\end{bmatrix}\n",
        "$$  \n",
        "\n",
        "**My Intuition:**  \n",
        "-Each slope \\(b_1\\) and \\(b_2\\) shows how strongly that predictor moves with \\(y\\), taking into account the other predictor.\n",
        "\n",
        "-If the predictors are correlated, the slopes adjust so that each one reflects the predictor’s unique contribution to \\(y\\).\n",
        "\n",
        "-The intercept is the mean of \\(y\\), because the predictors are centered when predictors are at their average, predicted \\(y\\) equals the average \\(y\\).\n",
        "\n",
        "-The covariance matrix \\(A\\) “balances” the predictors’ relationships with each other, making sure the plane fits the data in the least-squares sense.\n",
        "\n",
        "-Geometrically, the regression finds the plane that minimizes squared vertical errors while keeping residuals uncorrelated with each predictor.\n",
        "\n"
      ],
      "metadata": {
        "id": "iWYJhWH4nnLX"
      },
      "id": "iWYJhWH4nnLX"
    },
    {
      "cell_type": "markdown",
      "id": "95f22300-0180-4ed2-be8f-ed56cf4cd36b",
      "metadata": {
        "id": "95f22300-0180-4ed2-be8f-ed56cf4cd36b"
      },
      "source": [
        "**Q2.** This question is a case study for linear models. The data are about car prices. In particular, they include:\n",
        "\n",
        "  - `Price`, `Color`, `Seating_Capacity`\n",
        "  - `Body_Type`: crossover, hatchback, muv, sedan, suv\n",
        "  - `Make`, `Make_Year`: The brand of car and year produced\n",
        "  - `Mileage_Run`: The number of miles on the odometer\n",
        "  - `Fuel_Type`: Diesel or gasoline/petrol\n",
        "  - `Transmission`, `Transmission_Type`:  speeds and automatic/manual\n",
        "\n",
        "  1. Load `cars_hw.csv`. These data were really dirty, and I've already cleaned them a significant amount in terms of missing values and other issues, but some issues remain (e.g. outliers, badly scaled variables that require a log or arcsinh transformation). Clean the data however you think is most appropriate.\n",
        "  2. Summarize the `Price` variable and create a kernel density plot. Use `.groupby()` and `.describe()` to summarize prices by brand (`Make`). Make a grouped kernel density plot by `Make`. Which car brands are the most expensive? What do prices look like in general?\n",
        "  3. Split the data into an 80% training set and a 20% testing set.\n",
        "  4. Make a model where you regress price on the numeric variables alone; what is the $R^2$ and `RMSE` on the training set and test set? Make a second model where, for the categorical variables, you regress price on a model comprised of one-hot encoded regressors/features alone (you can use `pd.get_dummies()`; be careful of the dummy variable trap); what is the $R^2$ and `RMSE` on the test set? Which model performs better on the test set? Make a third model that combines all the regressors from the previous two; what is the $R^2$ and `RMSE` on the test set? Does the joint model perform better or worse, and by home much?\n",
        "  5. Use the `PolynomialFeatures` function from `sklearn` to expand the set of numerical variables you're using in the regression. As you increase the degree of the expansion, how do the $R^2$ and `RMSE` change? At what point does $R^2$ go negative on the test set? For your best model with expanded features, what is the $R^2$ and `RMSE`? How does it compare to your best model from part 4?\n",
        "  6. For your best model so far, determine the predicted values for the test data and plot them against the true values. Do the predicted values and true values roughly line up along the diagonal, or not? Compute the residuals/errors for the test data and create a kernel density plot. Do the residuals look roughly bell-shaped around zero? Evaluate the strengths and weaknesses of your model."
      ]
    },
    {
      "cell_type": "code",
      "execution_count": null,
      "id": "0acc2b86",
      "metadata": {
        "id": "0acc2b86"
      },
      "outputs": [],
      "source": []
    },
    {
      "cell_type": "markdown",
      "id": "aedcd486",
      "metadata": {
        "id": "aedcd486"
      },
      "source": [
        "**Q3.** This question refers to the `heart_hw.csv` data. It contains three variables:\n",
        "\n",
        "  - `y`: Whether the individual survived for three years, coded 0 for death and 1 for survival\n",
        "  - `age`: Patient's age\n",
        "  - `transplant`: `control` for not receiving a transplant and `treatment` for receiving a transplant\n",
        "\n",
        "Since a heart transplant is a dangerous operation and even people who successfully get heart transplants might suffer later complications, we want to look at whether a group of transplant recipients tends to survive longer than a comparison group who does not get the procedure.\n",
        "\n",
        "1. Compute (a) the proportion of people who survive in the control group who do not receive a transplant, and (b) the difference between the proportion of people who survive in the treatment group and the proportion of people who survive in the control group. In a randomized controlled trial, this is called the **average treatment effect**.\n",
        "2. Regress `y` on `transplant` using a linear model with a constant. How does the constant/intercept of the regression and the coefficient on transplant compare to your answers from part 1? Explain the relationship clearly.\n",
        "3. We'd like to include `age` in the regression, since it's reasonable to expect that older patients are less likely to survive an extensive surgery like a heart transplant. Regress `y` on a constant, transplant, and age. How does the intercept change?\n",
        "4. Build a more flexible model that allows for non-linear age effects and interactions between age and treatment. Use a train-test split to validate your model. Estimate your best model, predict the survival probability by age, and plot your results conditional on receiving a transplant and not. Describe what you see.\n",
        "5. Imagine someone suggests using these kinds of models to select who receives organ transplants; perhaps the CDC or NIH starts using a scoring algorithm to decide who is contacted about a potential organ. What are your concerns about how it is built and how it is deployed?"
      ]
    },
    {
      "cell_type": "code",
      "source": [
        "! git clone https://github.com/hildj/linear_models_assignment.git\n"
      ],
      "metadata": {
        "colab": {
          "base_uri": "https://localhost:8080/"
        },
        "id": "Bn8fJGAMqmUU",
        "outputId": "5de5b41e-9a5f-4c23-eb1f-27342ef851e8"
      },
      "id": "Bn8fJGAMqmUU",
      "execution_count": 1,
      "outputs": [
        {
          "output_type": "stream",
          "name": "stdout",
          "text": [
            "Cloning into 'linear_models_assignment'...\n",
            "remote: Enumerating objects: 15, done.\u001b[K\n",
            "remote: Counting objects: 100% (6/6), done.\u001b[K\n",
            "remote: Compressing objects: 100% (6/6), done.\u001b[K\n",
            "remote: Total 15 (delta 2), reused 0 (delta 0), pack-reused 9 (from 1)\u001b[K\n",
            "Receiving objects: 100% (15/15), 59.50 KiB | 725.00 KiB/s, done.\n",
            "Resolving deltas: 100% (2/2), done.\n"
          ]
        }
      ]
    },
    {
      "cell_type": "code",
      "execution_count": 2,
      "id": "d9b3a79a",
      "metadata": {
        "colab": {
          "base_uri": "https://localhost:8080/",
          "height": 206
        },
        "id": "d9b3a79a",
        "outputId": "43c7d551-71aa-4c7e-8f26-bcaafa28824e"
      },
      "outputs": [
        {
          "output_type": "execute_result",
          "data": {
            "text/plain": [
              "   Unnamed: 0  age transplant  y\n",
              "0           1   53    control  0\n",
              "1           2   43    control  0\n",
              "2           3   52    control  0\n",
              "3           4   52    control  0\n",
              "4           5   54    control  0"
            ],
            "text/html": [
              "\n",
              "  <div id=\"df-3919825a-2c4d-449a-bb6a-293c78c4640a\" class=\"colab-df-container\">\n",
              "    <div>\n",
              "<style scoped>\n",
              "    .dataframe tbody tr th:only-of-type {\n",
              "        vertical-align: middle;\n",
              "    }\n",
              "\n",
              "    .dataframe tbody tr th {\n",
              "        vertical-align: top;\n",
              "    }\n",
              "\n",
              "    .dataframe thead th {\n",
              "        text-align: right;\n",
              "    }\n",
              "</style>\n",
              "<table border=\"1\" class=\"dataframe\">\n",
              "  <thead>\n",
              "    <tr style=\"text-align: right;\">\n",
              "      <th></th>\n",
              "      <th>Unnamed: 0</th>\n",
              "      <th>age</th>\n",
              "      <th>transplant</th>\n",
              "      <th>y</th>\n",
              "    </tr>\n",
              "  </thead>\n",
              "  <tbody>\n",
              "    <tr>\n",
              "      <th>0</th>\n",
              "      <td>1</td>\n",
              "      <td>53</td>\n",
              "      <td>control</td>\n",
              "      <td>0</td>\n",
              "    </tr>\n",
              "    <tr>\n",
              "      <th>1</th>\n",
              "      <td>2</td>\n",
              "      <td>43</td>\n",
              "      <td>control</td>\n",
              "      <td>0</td>\n",
              "    </tr>\n",
              "    <tr>\n",
              "      <th>2</th>\n",
              "      <td>3</td>\n",
              "      <td>52</td>\n",
              "      <td>control</td>\n",
              "      <td>0</td>\n",
              "    </tr>\n",
              "    <tr>\n",
              "      <th>3</th>\n",
              "      <td>4</td>\n",
              "      <td>52</td>\n",
              "      <td>control</td>\n",
              "      <td>0</td>\n",
              "    </tr>\n",
              "    <tr>\n",
              "      <th>4</th>\n",
              "      <td>5</td>\n",
              "      <td>54</td>\n",
              "      <td>control</td>\n",
              "      <td>0</td>\n",
              "    </tr>\n",
              "  </tbody>\n",
              "</table>\n",
              "</div>\n",
              "    <div class=\"colab-df-buttons\">\n",
              "\n",
              "  <div class=\"colab-df-container\">\n",
              "    <button class=\"colab-df-convert\" onclick=\"convertToInteractive('df-3919825a-2c4d-449a-bb6a-293c78c4640a')\"\n",
              "            title=\"Convert this dataframe to an interactive table.\"\n",
              "            style=\"display:none;\">\n",
              "\n",
              "  <svg xmlns=\"http://www.w3.org/2000/svg\" height=\"24px\" viewBox=\"0 -960 960 960\">\n",
              "    <path d=\"M120-120v-720h720v720H120Zm60-500h600v-160H180v160Zm220 220h160v-160H400v160Zm0 220h160v-160H400v160ZM180-400h160v-160H180v160Zm440 0h160v-160H620v160ZM180-180h160v-160H180v160Zm440 0h160v-160H620v160Z\"/>\n",
              "  </svg>\n",
              "    </button>\n",
              "\n",
              "  <style>\n",
              "    .colab-df-container {\n",
              "      display:flex;\n",
              "      gap: 12px;\n",
              "    }\n",
              "\n",
              "    .colab-df-convert {\n",
              "      background-color: #E8F0FE;\n",
              "      border: none;\n",
              "      border-radius: 50%;\n",
              "      cursor: pointer;\n",
              "      display: none;\n",
              "      fill: #1967D2;\n",
              "      height: 32px;\n",
              "      padding: 0 0 0 0;\n",
              "      width: 32px;\n",
              "    }\n",
              "\n",
              "    .colab-df-convert:hover {\n",
              "      background-color: #E2EBFA;\n",
              "      box-shadow: 0px 1px 2px rgba(60, 64, 67, 0.3), 0px 1px 3px 1px rgba(60, 64, 67, 0.15);\n",
              "      fill: #174EA6;\n",
              "    }\n",
              "\n",
              "    .colab-df-buttons div {\n",
              "      margin-bottom: 4px;\n",
              "    }\n",
              "\n",
              "    [theme=dark] .colab-df-convert {\n",
              "      background-color: #3B4455;\n",
              "      fill: #D2E3FC;\n",
              "    }\n",
              "\n",
              "    [theme=dark] .colab-df-convert:hover {\n",
              "      background-color: #434B5C;\n",
              "      box-shadow: 0px 1px 3px 1px rgba(0, 0, 0, 0.15);\n",
              "      filter: drop-shadow(0px 1px 2px rgba(0, 0, 0, 0.3));\n",
              "      fill: #FFFFFF;\n",
              "    }\n",
              "  </style>\n",
              "\n",
              "    <script>\n",
              "      const buttonEl =\n",
              "        document.querySelector('#df-3919825a-2c4d-449a-bb6a-293c78c4640a button.colab-df-convert');\n",
              "      buttonEl.style.display =\n",
              "        google.colab.kernel.accessAllowed ? 'block' : 'none';\n",
              "\n",
              "      async function convertToInteractive(key) {\n",
              "        const element = document.querySelector('#df-3919825a-2c4d-449a-bb6a-293c78c4640a');\n",
              "        const dataTable =\n",
              "          await google.colab.kernel.invokeFunction('convertToInteractive',\n",
              "                                                    [key], {});\n",
              "        if (!dataTable) return;\n",
              "\n",
              "        const docLinkHtml = 'Like what you see? Visit the ' +\n",
              "          '<a target=\"_blank\" href=https://colab.research.google.com/notebooks/data_table.ipynb>data table notebook</a>'\n",
              "          + ' to learn more about interactive tables.';\n",
              "        element.innerHTML = '';\n",
              "        dataTable['output_type'] = 'display_data';\n",
              "        await google.colab.output.renderOutput(dataTable, element);\n",
              "        const docLink = document.createElement('div');\n",
              "        docLink.innerHTML = docLinkHtml;\n",
              "        element.appendChild(docLink);\n",
              "      }\n",
              "    </script>\n",
              "  </div>\n",
              "\n",
              "\n",
              "    <div id=\"df-4056f5c6-cd32-48e4-873c-da97efbbc1d3\">\n",
              "      <button class=\"colab-df-quickchart\" onclick=\"quickchart('df-4056f5c6-cd32-48e4-873c-da97efbbc1d3')\"\n",
              "                title=\"Suggest charts\"\n",
              "                style=\"display:none;\">\n",
              "\n",
              "<svg xmlns=\"http://www.w3.org/2000/svg\" height=\"24px\"viewBox=\"0 0 24 24\"\n",
              "     width=\"24px\">\n",
              "    <g>\n",
              "        <path d=\"M19 3H5c-1.1 0-2 .9-2 2v14c0 1.1.9 2 2 2h14c1.1 0 2-.9 2-2V5c0-1.1-.9-2-2-2zM9 17H7v-7h2v7zm4 0h-2V7h2v10zm4 0h-2v-4h2v4z\"/>\n",
              "    </g>\n",
              "</svg>\n",
              "      </button>\n",
              "\n",
              "<style>\n",
              "  .colab-df-quickchart {\n",
              "      --bg-color: #E8F0FE;\n",
              "      --fill-color: #1967D2;\n",
              "      --hover-bg-color: #E2EBFA;\n",
              "      --hover-fill-color: #174EA6;\n",
              "      --disabled-fill-color: #AAA;\n",
              "      --disabled-bg-color: #DDD;\n",
              "  }\n",
              "\n",
              "  [theme=dark] .colab-df-quickchart {\n",
              "      --bg-color: #3B4455;\n",
              "      --fill-color: #D2E3FC;\n",
              "      --hover-bg-color: #434B5C;\n",
              "      --hover-fill-color: #FFFFFF;\n",
              "      --disabled-bg-color: #3B4455;\n",
              "      --disabled-fill-color: #666;\n",
              "  }\n",
              "\n",
              "  .colab-df-quickchart {\n",
              "    background-color: var(--bg-color);\n",
              "    border: none;\n",
              "    border-radius: 50%;\n",
              "    cursor: pointer;\n",
              "    display: none;\n",
              "    fill: var(--fill-color);\n",
              "    height: 32px;\n",
              "    padding: 0;\n",
              "    width: 32px;\n",
              "  }\n",
              "\n",
              "  .colab-df-quickchart:hover {\n",
              "    background-color: var(--hover-bg-color);\n",
              "    box-shadow: 0 1px 2px rgba(60, 64, 67, 0.3), 0 1px 3px 1px rgba(60, 64, 67, 0.15);\n",
              "    fill: var(--button-hover-fill-color);\n",
              "  }\n",
              "\n",
              "  .colab-df-quickchart-complete:disabled,\n",
              "  .colab-df-quickchart-complete:disabled:hover {\n",
              "    background-color: var(--disabled-bg-color);\n",
              "    fill: var(--disabled-fill-color);\n",
              "    box-shadow: none;\n",
              "  }\n",
              "\n",
              "  .colab-df-spinner {\n",
              "    border: 2px solid var(--fill-color);\n",
              "    border-color: transparent;\n",
              "    border-bottom-color: var(--fill-color);\n",
              "    animation:\n",
              "      spin 1s steps(1) infinite;\n",
              "  }\n",
              "\n",
              "  @keyframes spin {\n",
              "    0% {\n",
              "      border-color: transparent;\n",
              "      border-bottom-color: var(--fill-color);\n",
              "      border-left-color: var(--fill-color);\n",
              "    }\n",
              "    20% {\n",
              "      border-color: transparent;\n",
              "      border-left-color: var(--fill-color);\n",
              "      border-top-color: var(--fill-color);\n",
              "    }\n",
              "    30% {\n",
              "      border-color: transparent;\n",
              "      border-left-color: var(--fill-color);\n",
              "      border-top-color: var(--fill-color);\n",
              "      border-right-color: var(--fill-color);\n",
              "    }\n",
              "    40% {\n",
              "      border-color: transparent;\n",
              "      border-right-color: var(--fill-color);\n",
              "      border-top-color: var(--fill-color);\n",
              "    }\n",
              "    60% {\n",
              "      border-color: transparent;\n",
              "      border-right-color: var(--fill-color);\n",
              "    }\n",
              "    80% {\n",
              "      border-color: transparent;\n",
              "      border-right-color: var(--fill-color);\n",
              "      border-bottom-color: var(--fill-color);\n",
              "    }\n",
              "    90% {\n",
              "      border-color: transparent;\n",
              "      border-bottom-color: var(--fill-color);\n",
              "    }\n",
              "  }\n",
              "</style>\n",
              "\n",
              "      <script>\n",
              "        async function quickchart(key) {\n",
              "          const quickchartButtonEl =\n",
              "            document.querySelector('#' + key + ' button');\n",
              "          quickchartButtonEl.disabled = true;  // To prevent multiple clicks.\n",
              "          quickchartButtonEl.classList.add('colab-df-spinner');\n",
              "          try {\n",
              "            const charts = await google.colab.kernel.invokeFunction(\n",
              "                'suggestCharts', [key], {});\n",
              "          } catch (error) {\n",
              "            console.error('Error during call to suggestCharts:', error);\n",
              "          }\n",
              "          quickchartButtonEl.classList.remove('colab-df-spinner');\n",
              "          quickchartButtonEl.classList.add('colab-df-quickchart-complete');\n",
              "        }\n",
              "        (() => {\n",
              "          let quickchartButtonEl =\n",
              "            document.querySelector('#df-4056f5c6-cd32-48e4-873c-da97efbbc1d3 button');\n",
              "          quickchartButtonEl.style.display =\n",
              "            google.colab.kernel.accessAllowed ? 'block' : 'none';\n",
              "        })();\n",
              "      </script>\n",
              "    </div>\n",
              "\n",
              "    </div>\n",
              "  </div>\n"
            ],
            "application/vnd.google.colaboratory.intrinsic+json": {
              "type": "dataframe",
              "variable_name": "df",
              "summary": "{\n  \"name\": \"df\",\n  \"rows\": 103,\n  \"fields\": [\n    {\n      \"column\": \"Unnamed: 0\",\n      \"properties\": {\n        \"dtype\": \"number\",\n        \"std\": 29,\n        \"min\": 1,\n        \"max\": 103,\n        \"num_unique_values\": 103,\n        \"samples\": [\n          31,\n          68,\n          63\n        ],\n        \"semantic_type\": \"\",\n        \"description\": \"\"\n      }\n    },\n    {\n      \"column\": \"age\",\n      \"properties\": {\n        \"dtype\": \"number\",\n        \"std\": 9,\n        \"min\": 8,\n        \"max\": 64,\n        \"num_unique_values\": 35,\n        \"samples\": [\n          23,\n          49,\n          28\n        ],\n        \"semantic_type\": \"\",\n        \"description\": \"\"\n      }\n    },\n    {\n      \"column\": \"transplant\",\n      \"properties\": {\n        \"dtype\": \"category\",\n        \"num_unique_values\": 2,\n        \"samples\": [\n          \"treatment\",\n          \"control\"\n        ],\n        \"semantic_type\": \"\",\n        \"description\": \"\"\n      }\n    },\n    {\n      \"column\": \"y\",\n      \"properties\": {\n        \"dtype\": \"number\",\n        \"std\": 0,\n        \"min\": 0,\n        \"max\": 1,\n        \"num_unique_values\": 2,\n        \"samples\": [\n          1,\n          0\n        ],\n        \"semantic_type\": \"\",\n        \"description\": \"\"\n      }\n    }\n  ]\n}"
            }
          },
          "metadata": {},
          "execution_count": 2
        }
      ],
      "source": [
        "import pandas as pd\n",
        "import numpy as np\n",
        "import matplotlib.pyplot as plt\n",
        "import seaborn as sns\n",
        "from sklearn.linear_model import LinearRegression\n",
        "from sklearn.model_selection import train_test_split\n",
        "from sklearn.preprocessing import PolynomialFeatures\n",
        "\n",
        "# load the data\n",
        "df = pd.read_csv(\"/content/linear_models_assignment/data/heart_hw.csv\")\n",
        "df.head()"
      ]
    },
    {
      "cell_type": "code",
      "source": [
        "# I split the data into control and treatment groups\n",
        "ctrl = df[df['transplant']=='control']\n",
        "trt = df[df['transplant']=='treatment']\n",
        "\n",
        "# Calculated the proportion of people who survived in each group\n",
        "p_ctrl = ctrl['y'].mean()\n",
        "p_trt = trt['y'].mean()\n",
        "\n",
        "# The difference is the average treatment effect\n",
        "ate = p_trt - p_ctrl\n",
        "\n",
        "print(\"Control survival:\", round(p_ctrl,3))\n",
        "print(\"Treatment survival:\", round(p_trt,3))\n",
        "print(\"ATE:\", round(ate,3))\n"
      ],
      "metadata": {
        "colab": {
          "base_uri": "https://localhost:8080/"
        },
        "id": "-ZSOOvVYxcmt",
        "outputId": "38c09cd0-e7c6-422a-8a3b-3e8c7779994a"
      },
      "id": "-ZSOOvVYxcmt",
      "execution_count": 3,
      "outputs": [
        {
          "output_type": "stream",
          "name": "stdout",
          "text": [
            "Control survival: 0.118\n",
            "Treatment survival: 0.348\n",
            "ATE: 0.23\n"
          ]
        }
      ]
    },
    {
      "cell_type": "code",
      "source": [
        "# I turned transplant into a 0/1 variable so it can go in a regression\n",
        "df['transplant_bin'] = (df['transplant']=='treatment').astype(int)\n",
        "\n",
        "X = df[['transplant_bin']]\n",
        "y = df['y']\n",
        "\n",
        "model = LinearRegression().fit(X, y)\n",
        "\n",
        "print(\"Intercept (control group survival):\", round(model.intercept_,3))\n",
        "print(\"Coefficient on transplant:\", round(model.coef_[0],3))\n"
      ],
      "metadata": {
        "colab": {
          "base_uri": "https://localhost:8080/"
        },
        "id": "INLaf2g-xci8",
        "outputId": "972f3cad-606a-4abf-839e-f4057456ade0"
      },
      "id": "INLaf2g-xci8",
      "execution_count": 4,
      "outputs": [
        {
          "output_type": "stream",
          "name": "stdout",
          "text": [
            "Intercept (control group survival): 0.118\n",
            "Coefficient on transplant: 0.23\n"
          ]
        }
      ]
    },
    {
      "cell_type": "code",
      "source": [
        "# Added age as another predictor to see how it affects survival\n",
        "X_age = df[['transplant_bin','age']]\n",
        "\n",
        "model_age = LinearRegression().fit(X_age, y)\n",
        "\n",
        "print(\"Intercept (age 0, control):\", round(model_age.intercept_,3))\n",
        "print(\"Coefficient transplant:\", round(model_age.coef_[0],3))\n",
        "print(\"Coefficient age:\", round(model_age.coef_[1],3))\n"
      ],
      "metadata": {
        "colab": {
          "base_uri": "https://localhost:8080/"
        },
        "id": "gLPnqXeBxcX0",
        "outputId": "4625cae6-354d-4507-8724-916553e6bf61"
      },
      "id": "gLPnqXeBxcX0",
      "execution_count": 5,
      "outputs": [
        {
          "output_type": "stream",
          "name": "stdout",
          "text": [
            "Intercept (age 0, control): 0.702\n",
            "Coefficient transplant: 0.265\n",
            "Coefficient age: -0.014\n"
          ]
        }
      ]
    },
    {
      "cell_type": "code",
      "source": [
        "# Split into train and test sets\n",
        "train, test = train_test_split(df, test_size=0.2, random_state=42)\n",
        "\n",
        "# I used polynomial features to let age have a non-linear effect and interact with transplant\n",
        "poly = PolynomialFeatures(degree=2, include_bias=False)\n",
        "X_train_poly = poly.fit_transform(train[['age','transplant_bin']])\n",
        "X_test_poly = poly.transform(test[['age','transplant_bin']])\n",
        "\n",
        "# Fitted the model on the training data\n",
        "model_poly = LinearRegression().fit(X_train_poly, train['y'])\n",
        "\n",
        "# Got predictions for the test data\n",
        "preds = model_poly.predict(X_test_poly)\n"
      ],
      "metadata": {
        "id": "3up32Wp7xcNS"
      },
      "id": "3up32Wp7xcNS",
      "execution_count": 6,
      "outputs": []
    },
    {
      "cell_type": "code",
      "source": [
        "ages = np.arange(df['age'].min(), df['age'].max()+1)\n",
        "groups = [0,1] # 0=control,1=treatment\n",
        "\n",
        "plt.figure(figsize=(8,5))\n",
        "\n",
        "for g in groups:\n",
        "    X_plot = poly.transform(np.column_stack([ages, np.full_like(ages, g)]))\n",
        "    y_plot = model_poly.predict(X_plot)\n",
        "    plt.plot(ages, y_plot, label='Treatment' if g==1 else 'Control')\n",
        "\n",
        "plt.xlabel('Age')\n",
        "plt.ylabel('Predicted 3-year survival')\n",
        "plt.title('Survival by age and transplant')\n",
        "plt.legend()\n",
        "plt.show()\n"
      ],
      "metadata": {
        "colab": {
          "base_uri": "https://localhost:8080/",
          "height": 556
        },
        "id": "_9Ebg7BAxb9t",
        "outputId": "a56c7bb3-4956-46a2-e000-461de54f6050"
      },
      "id": "_9Ebg7BAxb9t",
      "execution_count": 7,
      "outputs": [
        {
          "output_type": "stream",
          "name": "stderr",
          "text": [
            "/usr/local/lib/python3.12/dist-packages/sklearn/utils/validation.py:2739: UserWarning: X does not have valid feature names, but PolynomialFeatures was fitted with feature names\n",
            "  warnings.warn(\n",
            "/usr/local/lib/python3.12/dist-packages/sklearn/utils/validation.py:2739: UserWarning: X does not have valid feature names, but PolynomialFeatures was fitted with feature names\n",
            "  warnings.warn(\n"
          ]
        },
        {
          "output_type": "display_data",
          "data": {
            "text/plain": [
              "<Figure size 800x500 with 1 Axes>"
            ],
            "image/png": "[encoded data removed]"
          },
          "metadata": {}
        }
      ]
    },
    {
      "cell_type": "markdown",
      "source": [
        "Question 2:\n",
        "\n",
        "The intercept matches the survival proportion in the control group (same as step 1). The coefficient on transplant matches the ATE we calculated. This makes sense because with a single binary predictor, the intercept represents the baseline (control) mean, and the coefficient represents the difference between treatment and control which is exactly what the ATE measures.\n",
        "\n",
        "Question 3:\n",
        "\n",
        "Adding age changes the intercept because it now represents the predicted survival of a control patient at age 0, rather than the average survival of all control patients. The coefficient on age is negative, showing that older patients are less likely to survive, and the coefficient on transplant shows the treatment effect after adjusting for age.\n",
        "\n",
        "Question 4:\n",
        "\n",
        "The plot shows that transplant generally increases survival probability. Younger patients benefit more from a transplant, while the difference between treatment and control decreases as age increases. Survival decreases with age in both groups. Using polynomial features and interaction terms allows the model to capture these non-linear effects and differences between groups more realistically than a simple linear model.\n",
        "\n",
        "Question 5: Considerations\n",
        "\n",
        "I thought about some ethical concerns with using a model like this to decide who gets transplants:\n",
        "\n",
        "- The dataset is pretty small, so the predictions might not be very reliable.\n",
        "- Older patients could be unfairly deprioritized if an algorithm is used automatically.\n",
        "- The model only predicts survival, but it doesn’t consider quality of life, complications, or other health factors.\n",
        "- Using a model like this to make real-life decisions could lead to bias or discrimination against certain groups.\n",
        "\n",
        "Overall, this kind of model is useful for understanding trends and getting insights, but it shouldn’t be used on its own to make life-or-death decisions.\n"
      ],
      "metadata": {
        "id": "j2OPRhpTyKVj"
      },
      "id": "j2OPRhpTyKVj"
    }
  ],
  "metadata": {
    "colab": {
      "provenance": [],
      "include_colab_link": true
    },
    "kernelspec": {
      "display_name": "Python 3 (ipykernel)",
      "language": "python",
      "name": "python3"
    },
    "language_info": {
      "codemirror_mode": {
        "name": "ipython",
        "version": 3
      },
      "file_extension": ".py",
      "mimetype": "text/x-python",
      "name": "python",
      "nbconvert_exporter": "python",
      "pygments_lexer": "ipython3",
      "version": "3.10.18"
    }
  },
  "nbformat": 4,
  "nbformat_minor": 5
}